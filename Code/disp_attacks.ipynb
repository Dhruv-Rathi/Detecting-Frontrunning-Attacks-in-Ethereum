{
  "nbformat": 4,
  "nbformat_minor": 0,
  "metadata": {
    "colab": {
      "provenance": []
    },
    "kernelspec": {
      "name": "python3",
      "display_name": "Python 3"
    },
    "language_info": {
      "name": "python"
    }
  },
  "cells": [
    {
      "cell_type": "code",
      "execution_count": null,
      "metadata": {
        "colab": {
          "base_uri": "https://localhost:8080/"
        },
        "id": "7suDJ6p3jU6Y",
        "outputId": "96bb4888-30c4-4cd2-bc3e-0324bdbbdeb3"
      },
      "outputs": [
        {
          "output_type": "stream",
          "name": "stdout",
          "text": [
            "Mounted at /content/drive\n"
          ]
        }
      ],
      "source": [
        "from google.colab import drive\n",
        "drive.mount('/content/drive')"
      ]
    },
    {
      "cell_type": "code",
      "source": [
        "import csv\n",
        "import pandas as pd\n",
        "\n",
        "file_path = '/content/drive/MyDrive/FrontrunnningData/disp_attacks.csv'\n",
        "# List to store data from CSV\n",
        "df = pd.read_csv(file_path)\n"
      ],
      "metadata": {
        "id": "WrrSJmOGmqnF"
      },
      "execution_count": null,
      "outputs": []
    },
    {
      "cell_type": "code",
      "source": [
        "df.head()"
      ],
      "metadata": {
        "colab": {
          "base_uri": "https://localhost:8080/",
          "height": 295
        },
        "id": "sWgp5_Z5msen",
        "outputId": "09512821-5f98-4b7c-b0ab-dee2d3ad9e1d"
      },
      "execution_count": null,
      "outputs": [
        {
          "output_type": "execute_result",
          "data": {
            "text/plain": [
              "                                           blockHash  blockNumber  \\\n",
              "0  b\"\\x89,:\\xb8\\xd4\\x98Z6\\xa4\\x15\\xa7'%\\xb5\\x9a\\x...      1929171   \n",
              "1  b\"\\x89,:\\xb8\\xd4\\x98Z6\\xa4\\x15\\xa7'%\\xb5\\x9a\\x...      1929171   \n",
              "2  b\"\\x89,:\\xb8\\xd4\\x98Z6\\xa4\\x15\\xa7'%\\xb5\\x9a\\x...      1929171   \n",
              "3  b\"\\x89,:\\xb8\\xd4\\x98Z6\\xa4\\x15\\xa7'%\\xb5\\x9a\\x...      1929171   \n",
              "4  b\"\\x89,:\\xb8\\xd4\\x98Z6\\xa4\\x15\\xa7'%\\xb5\\x9a\\x...      1929171   \n",
              "\n",
              "                                                hash  \\\n",
              "0  b'\\x8aG\\xa1>p\\xe1<\\xa7C\\xb4\\xf0L\\xfcU\\xe3\\x1c%...   \n",
              "1  b'\\xb6\\xf8\\xc0\\x97\\x11,?a\\x8f\\xc7vr\\x9f\\x9d\\xa...   \n",
              "2  b'\\x13a\\x94\\xe51\\xa3\\xcfo;\\xc5\\x9e\\r\\xc1\\x1f\\x...   \n",
              "3  b'QE\\x99u<G\\xc0\\xad\\xbe]r\\xcb>X\\xfbS\\xc7\\x9d\\x...   \n",
              "4  b'\\xc3\\xdd\\xf5v\\xb2\\xf9\\x15rDx\\xc1\\xa1K\\xc5\\x9...   \n",
              "\n",
              "                                               input  \\\n",
              "0                                                b''   \n",
              "1                                                b''   \n",
              "2                                                b''   \n",
              "3                                                b''   \n",
              "4  b\"\\xb6\\x1d'\\xf6\\x00\\x00\\x00\\x00\\x00\\x00\\x00\\x0...   \n",
              "\n",
              "                                         from  \\\n",
              "0  0x27BebC44c6f60f99D558422288d616eE15DcB36d   \n",
              "1  0x27BebC44c6f60f99D558422288d616eE15DcB36d   \n",
              "2  0x91fCcD0C64dA5e5bb22a748f28d83f3a09024F1d   \n",
              "3  0x1fEF489870f2c5dA234cF2b17F40a9EBf6D517C2   \n",
              "4  0xBa411E2E417794a327503C772684e85738a698b2   \n",
              "\n",
              "                                           to                 value  \\\n",
              "0  0x3beC06708FE8eE10FB633a243520f2924545e748   4439881390000000000   \n",
              "1  0x3beC06708FE8eE10FB633a243520f2924545e748   3972146630000000000   \n",
              "2  0xa0EeA1ED0cbaFB0f18C01d214829Ab408BF9EB05  10000000000000000000   \n",
              "3  0xFBb1b73C4f0BDa4f67dcA266ce6Ef42f520fBB98    220372375229785150   \n",
              "4  0x0E3358cA80A0e6Ef98C49747e2533b525d2a7A3b                     0   \n",
              "\n",
              "      gasPrice     gas  nonce  chainId  type  \\\n",
              "0  23987975820   90000  25266      NaN     0   \n",
              "1  23987975820   90000  25267      NaN     0   \n",
              "2  23654516833   90000      0      NaN     0   \n",
              "3  21738084817   22050    206      NaN     0   \n",
              "4  21612736762  300000      9      NaN     0   \n",
              "\n",
              "                                                   r  \\\n",
              "0  b'J\\x88\\x8e&i\\x92yJ\\xb1\\t^\\xb5^\\x0c\\xbf\\xeaK\\x...   \n",
              "1  b'\\xadm\\xf1\\x0bK\\x1d\\xb6=\\x1a\\xe9E2\\x8a\\xed\\xf...   \n",
              "2  b'\\x12\\xb7\\x1a\\xe5\\xc1j\\x97\\xcf\\xe6\\xdc\\tj\\x06...   \n",
              "3  b'\\xdaC\\xc9I\\\\~\\xcd\\xdb\\xa2\\x87}\\xb2\\xa4\\\\E0\\x...   \n",
              "4  b'\\xc5\\xa7Fan\\xa6\\xa1\\x97\\x18\\x7f\\xdb\\xdf\\x15\\...   \n",
              "\n",
              "                                                   s   v       Label  \n",
              "0  b'1N\\x14\\x8cDO-\\xe1A!b\\x1a\\x9a\\xb5l\\x03%Pv\\x84...  28  Not Attack  \n",
              "1  b'9\\x0b\\xacC\\xd9\\xae\\xd2\\x1e\\xfb\\xa0\\xc6\\xf5\\x...  28  Not Attack  \n",
              "2  b'|\\x06\\xb1\\xe2\\xd5\\xe3\\xec\\x00\\x91\\xd5b=Qdj\\x...  28  Not Attack  \n",
              "3  b'&_\\xfa&\\xe5\\xb2\\x04__\\xdbU\\xaaB}\\xfbP-0\\x90\\...  28  Not Attack  \n",
              "4  b'\\rR\\\\$\\xbb8\\xc4g\\xd0\\xa3\\xe2&*NPX\\xcd\\xc9cq5...  28      Attack  "
            ],
            "text/html": [
              "\n",
              "  <div id=\"df-8a2304f5-453d-4946-b94d-14b8f5e5f297\" class=\"colab-df-container\">\n",
              "    <div>\n",
              "<style scoped>\n",
              "    .dataframe tbody tr th:only-of-type {\n",
              "        vertical-align: middle;\n",
              "    }\n",
              "\n",
              "    .dataframe tbody tr th {\n",
              "        vertical-align: top;\n",
              "    }\n",
              "\n",
              "    .dataframe thead th {\n",
              "        text-align: right;\n",
              "    }\n",
              "</style>\n",
              "<table border=\"1\" class=\"dataframe\">\n",
              "  <thead>\n",
              "    <tr style=\"text-align: right;\">\n",
              "      <th></th>\n",
              "      <th>blockHash</th>\n",
              "      <th>blockNumber</th>\n",
              "      <th>hash</th>\n",
              "      <th>input</th>\n",
              "      <th>from</th>\n",
              "      <th>to</th>\n",
              "      <th>value</th>\n",
              "      <th>gasPrice</th>\n",
              "      <th>gas</th>\n",
              "      <th>nonce</th>\n",
              "      <th>chainId</th>\n",
              "      <th>type</th>\n",
              "      <th>r</th>\n",
              "      <th>s</th>\n",
              "      <th>v</th>\n",
              "      <th>Label</th>\n",
              "    </tr>\n",
              "  </thead>\n",
              "  <tbody>\n",
              "    <tr>\n",
              "      <th>0</th>\n",
              "      <td>b\"\\x89,:\\xb8\\xd4\\x98Z6\\xa4\\x15\\xa7'%\\xb5\\x9a\\x...</td>\n",
              "      <td>1929171</td>\n",
              "      <td>b'\\x8aG\\xa1&gt;p\\xe1&lt;\\xa7C\\xb4\\xf0L\\xfcU\\xe3\\x1c%...</td>\n",
              "      <td>b''</td>\n",
              "      <td>0x27BebC44c6f60f99D558422288d616eE15DcB36d</td>\n",
              "      <td>0x3beC06708FE8eE10FB633a243520f2924545e748</td>\n",
              "      <td>4439881390000000000</td>\n",
              "      <td>23987975820</td>\n",
              "      <td>90000</td>\n",
              "      <td>25266</td>\n",
              "      <td>NaN</td>\n",
              "      <td>0</td>\n",
              "      <td>b'J\\x88\\x8e&amp;i\\x92yJ\\xb1\\t^\\xb5^\\x0c\\xbf\\xeaK\\x...</td>\n",
              "      <td>b'1N\\x14\\x8cDO-\\xe1A!b\\x1a\\x9a\\xb5l\\x03%Pv\\x84...</td>\n",
              "      <td>28</td>\n",
              "      <td>Not Attack</td>\n",
              "    </tr>\n",
              "    <tr>\n",
              "      <th>1</th>\n",
              "      <td>b\"\\x89,:\\xb8\\xd4\\x98Z6\\xa4\\x15\\xa7'%\\xb5\\x9a\\x...</td>\n",
              "      <td>1929171</td>\n",
              "      <td>b'\\xb6\\xf8\\xc0\\x97\\x11,?a\\x8f\\xc7vr\\x9f\\x9d\\xa...</td>\n",
              "      <td>b''</td>\n",
              "      <td>0x27BebC44c6f60f99D558422288d616eE15DcB36d</td>\n",
              "      <td>0x3beC06708FE8eE10FB633a243520f2924545e748</td>\n",
              "      <td>3972146630000000000</td>\n",
              "      <td>23987975820</td>\n",
              "      <td>90000</td>\n",
              "      <td>25267</td>\n",
              "      <td>NaN</td>\n",
              "      <td>0</td>\n",
              "      <td>b'\\xadm\\xf1\\x0bK\\x1d\\xb6=\\x1a\\xe9E2\\x8a\\xed\\xf...</td>\n",
              "      <td>b'9\\x0b\\xacC\\xd9\\xae\\xd2\\x1e\\xfb\\xa0\\xc6\\xf5\\x...</td>\n",
              "      <td>28</td>\n",
              "      <td>Not Attack</td>\n",
              "    </tr>\n",
              "    <tr>\n",
              "      <th>2</th>\n",
              "      <td>b\"\\x89,:\\xb8\\xd4\\x98Z6\\xa4\\x15\\xa7'%\\xb5\\x9a\\x...</td>\n",
              "      <td>1929171</td>\n",
              "      <td>b'\\x13a\\x94\\xe51\\xa3\\xcfo;\\xc5\\x9e\\r\\xc1\\x1f\\x...</td>\n",
              "      <td>b''</td>\n",
              "      <td>0x91fCcD0C64dA5e5bb22a748f28d83f3a09024F1d</td>\n",
              "      <td>0xa0EeA1ED0cbaFB0f18C01d214829Ab408BF9EB05</td>\n",
              "      <td>10000000000000000000</td>\n",
              "      <td>23654516833</td>\n",
              "      <td>90000</td>\n",
              "      <td>0</td>\n",
              "      <td>NaN</td>\n",
              "      <td>0</td>\n",
              "      <td>b'\\x12\\xb7\\x1a\\xe5\\xc1j\\x97\\xcf\\xe6\\xdc\\tj\\x06...</td>\n",
              "      <td>b'|\\x06\\xb1\\xe2\\xd5\\xe3\\xec\\x00\\x91\\xd5b=Qdj\\x...</td>\n",
              "      <td>28</td>\n",
              "      <td>Not Attack</td>\n",
              "    </tr>\n",
              "    <tr>\n",
              "      <th>3</th>\n",
              "      <td>b\"\\x89,:\\xb8\\xd4\\x98Z6\\xa4\\x15\\xa7'%\\xb5\\x9a\\x...</td>\n",
              "      <td>1929171</td>\n",
              "      <td>b'QE\\x99u&lt;G\\xc0\\xad\\xbe]r\\xcb&gt;X\\xfbS\\xc7\\x9d\\x...</td>\n",
              "      <td>b''</td>\n",
              "      <td>0x1fEF489870f2c5dA234cF2b17F40a9EBf6D517C2</td>\n",
              "      <td>0xFBb1b73C4f0BDa4f67dcA266ce6Ef42f520fBB98</td>\n",
              "      <td>220372375229785150</td>\n",
              "      <td>21738084817</td>\n",
              "      <td>22050</td>\n",
              "      <td>206</td>\n",
              "      <td>NaN</td>\n",
              "      <td>0</td>\n",
              "      <td>b'\\xdaC\\xc9I\\\\~\\xcd\\xdb\\xa2\\x87}\\xb2\\xa4\\\\E0\\x...</td>\n",
              "      <td>b'&amp;_\\xfa&amp;\\xe5\\xb2\\x04__\\xdbU\\xaaB}\\xfbP-0\\x90\\...</td>\n",
              "      <td>28</td>\n",
              "      <td>Not Attack</td>\n",
              "    </tr>\n",
              "    <tr>\n",
              "      <th>4</th>\n",
              "      <td>b\"\\x89,:\\xb8\\xd4\\x98Z6\\xa4\\x15\\xa7'%\\xb5\\x9a\\x...</td>\n",
              "      <td>1929171</td>\n",
              "      <td>b'\\xc3\\xdd\\xf5v\\xb2\\xf9\\x15rDx\\xc1\\xa1K\\xc5\\x9...</td>\n",
              "      <td>b\"\\xb6\\x1d'\\xf6\\x00\\x00\\x00\\x00\\x00\\x00\\x00\\x0...</td>\n",
              "      <td>0xBa411E2E417794a327503C772684e85738a698b2</td>\n",
              "      <td>0x0E3358cA80A0e6Ef98C49747e2533b525d2a7A3b</td>\n",
              "      <td>0</td>\n",
              "      <td>21612736762</td>\n",
              "      <td>300000</td>\n",
              "      <td>9</td>\n",
              "      <td>NaN</td>\n",
              "      <td>0</td>\n",
              "      <td>b'\\xc5\\xa7Fan\\xa6\\xa1\\x97\\x18\\x7f\\xdb\\xdf\\x15\\...</td>\n",
              "      <td>b'\\rR\\\\$\\xbb8\\xc4g\\xd0\\xa3\\xe2&amp;*NPX\\xcd\\xc9cq5...</td>\n",
              "      <td>28</td>\n",
              "      <td>Attack</td>\n",
              "    </tr>\n",
              "  </tbody>\n",
              "</table>\n",
              "</div>\n",
              "    <div class=\"colab-df-buttons\">\n",
              "\n",
              "  <div class=\"colab-df-container\">\n",
              "    <button class=\"colab-df-convert\" onclick=\"convertToInteractive('df-8a2304f5-453d-4946-b94d-14b8f5e5f297')\"\n",
              "            title=\"Convert this dataframe to an interactive table.\"\n",
              "            style=\"display:none;\">\n",
              "\n",
              "  <svg xmlns=\"http://www.w3.org/2000/svg\" height=\"24px\" viewBox=\"0 -960 960 960\">\n",
              "    <path d=\"M120-120v-720h720v720H120Zm60-500h600v-160H180v160Zm220 220h160v-160H400v160Zm0 220h160v-160H400v160ZM180-400h160v-160H180v160Zm440 0h160v-160H620v160ZM180-180h160v-160H180v160Zm440 0h160v-160H620v160Z\"/>\n",
              "  </svg>\n",
              "    </button>\n",
              "\n",
              "  <style>\n",
              "    .colab-df-container {\n",
              "      display:flex;\n",
              "      gap: 12px;\n",
              "    }\n",
              "\n",
              "    .colab-df-convert {\n",
              "      background-color: #E8F0FE;\n",
              "      border: none;\n",
              "      border-radius: 50%;\n",
              "      cursor: pointer;\n",
              "      display: none;\n",
              "      fill: #1967D2;\n",
              "      height: 32px;\n",
              "      padding: 0 0 0 0;\n",
              "      width: 32px;\n",
              "    }\n",
              "\n",
              "    .colab-df-convert:hover {\n",
              "      background-color: #E2EBFA;\n",
              "      box-shadow: 0px 1px 2px rgba(60, 64, 67, 0.3), 0px 1px 3px 1px rgba(60, 64, 67, 0.15);\n",
              "      fill: #174EA6;\n",
              "    }\n",
              "\n",
              "    .colab-df-buttons div {\n",
              "      margin-bottom: 4px;\n",
              "    }\n",
              "\n",
              "    [theme=dark] .colab-df-convert {\n",
              "      background-color: #3B4455;\n",
              "      fill: #D2E3FC;\n",
              "    }\n",
              "\n",
              "    [theme=dark] .colab-df-convert:hover {\n",
              "      background-color: #434B5C;\n",
              "      box-shadow: 0px 1px 3px 1px rgba(0, 0, 0, 0.15);\n",
              "      filter: drop-shadow(0px 1px 2px rgba(0, 0, 0, 0.3));\n",
              "      fill: #FFFFFF;\n",
              "    }\n",
              "  </style>\n",
              "\n",
              "    <script>\n",
              "      const buttonEl =\n",
              "        document.querySelector('#df-8a2304f5-453d-4946-b94d-14b8f5e5f297 button.colab-df-convert');\n",
              "      buttonEl.style.display =\n",
              "        google.colab.kernel.accessAllowed ? 'block' : 'none';\n",
              "\n",
              "      async function convertToInteractive(key) {\n",
              "        const element = document.querySelector('#df-8a2304f5-453d-4946-b94d-14b8f5e5f297');\n",
              "        const dataTable =\n",
              "          await google.colab.kernel.invokeFunction('convertToInteractive',\n",
              "                                                    [key], {});\n",
              "        if (!dataTable) return;\n",
              "\n",
              "        const docLinkHtml = 'Like what you see? Visit the ' +\n",
              "          '<a target=\"_blank\" href=https://colab.research.google.com/notebooks/data_table.ipynb>data table notebook</a>'\n",
              "          + ' to learn more about interactive tables.';\n",
              "        element.innerHTML = '';\n",
              "        dataTable['output_type'] = 'display_data';\n",
              "        await google.colab.output.renderOutput(dataTable, element);\n",
              "        const docLink = document.createElement('div');\n",
              "        docLink.innerHTML = docLinkHtml;\n",
              "        element.appendChild(docLink);\n",
              "      }\n",
              "    </script>\n",
              "  </div>\n",
              "\n",
              "\n",
              "<div id=\"df-aa163f53-4d0b-41d9-9f09-b1268e48264f\">\n",
              "  <button class=\"colab-df-quickchart\" onclick=\"quickchart('df-aa163f53-4d0b-41d9-9f09-b1268e48264f')\"\n",
              "            title=\"Suggest charts\"\n",
              "            style=\"display:none;\">\n",
              "\n",
              "<svg xmlns=\"http://www.w3.org/2000/svg\" height=\"24px\"viewBox=\"0 0 24 24\"\n",
              "     width=\"24px\">\n",
              "    <g>\n",
              "        <path d=\"M19 3H5c-1.1 0-2 .9-2 2v14c0 1.1.9 2 2 2h14c1.1 0 2-.9 2-2V5c0-1.1-.9-2-2-2zM9 17H7v-7h2v7zm4 0h-2V7h2v10zm4 0h-2v-4h2v4z\"/>\n",
              "    </g>\n",
              "</svg>\n",
              "  </button>\n",
              "\n",
              "<style>\n",
              "  .colab-df-quickchart {\n",
              "      --bg-color: #E8F0FE;\n",
              "      --fill-color: #1967D2;\n",
              "      --hover-bg-color: #E2EBFA;\n",
              "      --hover-fill-color: #174EA6;\n",
              "      --disabled-fill-color: #AAA;\n",
              "      --disabled-bg-color: #DDD;\n",
              "  }\n",
              "\n",
              "  [theme=dark] .colab-df-quickchart {\n",
              "      --bg-color: #3B4455;\n",
              "      --fill-color: #D2E3FC;\n",
              "      --hover-bg-color: #434B5C;\n",
              "      --hover-fill-color: #FFFFFF;\n",
              "      --disabled-bg-color: #3B4455;\n",
              "      --disabled-fill-color: #666;\n",
              "  }\n",
              "\n",
              "  .colab-df-quickchart {\n",
              "    background-color: var(--bg-color);\n",
              "    border: none;\n",
              "    border-radius: 50%;\n",
              "    cursor: pointer;\n",
              "    display: none;\n",
              "    fill: var(--fill-color);\n",
              "    height: 32px;\n",
              "    padding: 0;\n",
              "    width: 32px;\n",
              "  }\n",
              "\n",
              "  .colab-df-quickchart:hover {\n",
              "    background-color: var(--hover-bg-color);\n",
              "    box-shadow: 0 1px 2px rgba(60, 64, 67, 0.3), 0 1px 3px 1px rgba(60, 64, 67, 0.15);\n",
              "    fill: var(--button-hover-fill-color);\n",
              "  }\n",
              "\n",
              "  .colab-df-quickchart-complete:disabled,\n",
              "  .colab-df-quickchart-complete:disabled:hover {\n",
              "    background-color: var(--disabled-bg-color);\n",
              "    fill: var(--disabled-fill-color);\n",
              "    box-shadow: none;\n",
              "  }\n",
              "\n",
              "  .colab-df-spinner {\n",
              "    border: 2px solid var(--fill-color);\n",
              "    border-color: transparent;\n",
              "    border-bottom-color: var(--fill-color);\n",
              "    animation:\n",
              "      spin 1s steps(1) infinite;\n",
              "  }\n",
              "\n",
              "  @keyframes spin {\n",
              "    0% {\n",
              "      border-color: transparent;\n",
              "      border-bottom-color: var(--fill-color);\n",
              "      border-left-color: var(--fill-color);\n",
              "    }\n",
              "    20% {\n",
              "      border-color: transparent;\n",
              "      border-left-color: var(--fill-color);\n",
              "      border-top-color: var(--fill-color);\n",
              "    }\n",
              "    30% {\n",
              "      border-color: transparent;\n",
              "      border-left-color: var(--fill-color);\n",
              "      border-top-color: var(--fill-color);\n",
              "      border-right-color: var(--fill-color);\n",
              "    }\n",
              "    40% {\n",
              "      border-color: transparent;\n",
              "      border-right-color: var(--fill-color);\n",
              "      border-top-color: var(--fill-color);\n",
              "    }\n",
              "    60% {\n",
              "      border-color: transparent;\n",
              "      border-right-color: var(--fill-color);\n",
              "    }\n",
              "    80% {\n",
              "      border-color: transparent;\n",
              "      border-right-color: var(--fill-color);\n",
              "      border-bottom-color: var(--fill-color);\n",
              "    }\n",
              "    90% {\n",
              "      border-color: transparent;\n",
              "      border-bottom-color: var(--fill-color);\n",
              "    }\n",
              "  }\n",
              "</style>\n",
              "\n",
              "  <script>\n",
              "    async function quickchart(key) {\n",
              "      const quickchartButtonEl =\n",
              "        document.querySelector('#' + key + ' button');\n",
              "      quickchartButtonEl.disabled = true;  // To prevent multiple clicks.\n",
              "      quickchartButtonEl.classList.add('colab-df-spinner');\n",
              "      try {\n",
              "        const charts = await google.colab.kernel.invokeFunction(\n",
              "            'suggestCharts', [key], {});\n",
              "      } catch (error) {\n",
              "        console.error('Error during call to suggestCharts:', error);\n",
              "      }\n",
              "      quickchartButtonEl.classList.remove('colab-df-spinner');\n",
              "      quickchartButtonEl.classList.add('colab-df-quickchart-complete');\n",
              "    }\n",
              "    (() => {\n",
              "      let quickchartButtonEl =\n",
              "        document.querySelector('#df-aa163f53-4d0b-41d9-9f09-b1268e48264f button');\n",
              "      quickchartButtonEl.style.display =\n",
              "        google.colab.kernel.accessAllowed ? 'block' : 'none';\n",
              "    })();\n",
              "  </script>\n",
              "</div>\n",
              "\n",
              "    </div>\n",
              "  </div>\n"
            ],
            "application/vnd.google.colaboratory.intrinsic+json": {
              "type": "dataframe",
              "variable_name": "df"
            }
          },
          "metadata": {},
          "execution_count": 3
        }
      ]
    },
    {
      "cell_type": "code",
      "source": [
        "df['Label'].value_counts()"
      ],
      "metadata": {
        "colab": {
          "base_uri": "https://localhost:8080/"
        },
        "id": "oKCpmzi6m7CE",
        "outputId": "a13a0c8d-807a-4b25-fac0-43ae06e98b40"
      },
      "execution_count": null,
      "outputs": [
        {
          "output_type": "execute_result",
          "data": {
            "text/plain": [
              "Label\n",
              "Not Attack    523123\n",
              "Attack          6870\n",
              "Name: count, dtype: int64"
            ]
          },
          "metadata": {},
          "execution_count": 4
        }
      ]
    },
    {
      "cell_type": "code",
      "source": [
        "data_list = df.to_dict(orient='records')"
      ],
      "metadata": {
        "id": "gvdr5bCSm8vK"
      },
      "execution_count": null,
      "outputs": []
    },
    {
      "cell_type": "code",
      "source": [
        "def prepare_sequences(transactions_data):\n",
        "    sequences = []\n",
        "    sequence = []\n",
        "    for i in range(14):\n",
        "\n",
        "      gas_price_str = transactions_data[i]\n",
        "      gas_price_float = float(gas_price_str)\n",
        "      sequence.append(gas_price_float)\n",
        "      seq = []\n",
        "      for j in range(14 - i - 1):\n",
        "        gas_price_str = transactions_data[0]\n",
        "        gas_price_float = float(gas_price_str)\n",
        "        seq.append(gas_price_float)\n",
        "      seq.extend(sequence)\n",
        "      sequences.append(seq)\n",
        "    for i in range(len(transactions_data) - 14):  # For each transaction, take the last 15 transactions\n",
        "        sequence = []\n",
        "        for j in range(14):\n",
        "            # print(transactions_data[i + j]['gas_price'])\n",
        "            gas_price_str = transactions_data[i + j]\n",
        "            gas_price_float = float(gas_price_str)\n",
        "            sequence.append(gas_price_float)\n",
        "        sequences.append(sequence)\n",
        "    return sequences"
      ],
      "metadata": {
        "id": "A9AIpZkhm-bo"
      },
      "execution_count": null,
      "outputs": []
    },
    {
      "cell_type": "code",
      "source": [
        "# Standard Scaling the Gas Prices\n",
        "import numpy as np\n",
        "gas_prices = []\n",
        "sum = 0\n",
        "cnt = 0\n",
        "for row in data_list:\n",
        "  gas_prices.append(row['gasPrice'])\n",
        "  sum = sum + row['gasPrice']\n",
        "  cnt = cnt + 1\n",
        "  if np.isnan(row['gasPrice']) :\n",
        "    # print(row['gasPrice'])\n",
        "    print(cnt)\n",
        "    # break\n",
        "# print(sum)\n",
        "mean = np.mean(gas_prices)\n",
        "std_dev = np.std(gas_prices)\n",
        "print(\"Mean:\", mean)\n",
        "print(\"Std Dev:\", std_dev)\n",
        "\n",
        "print(gas_prices[0])\n",
        "for i in range(len(gas_prices)):\n",
        "  gas_prices[i] = (gas_prices[i] - mean) / std_dev\n",
        "print(gas_prices[0])"
      ],
      "metadata": {
        "colab": {
          "base_uri": "https://localhost:8080/"
        },
        "id": "W_VK-9AhnCOb",
        "outputId": "47d2c595-0e68-48e7-9b46-af67aa08d947"
      },
      "execution_count": null,
      "outputs": [
        {
          "output_type": "stream",
          "name": "stdout",
          "text": [
            "Mean: 104079941768.8482\n",
            "Std Dev: 1702618552810.2974\n",
            "23987975820\n",
            "-0.04704046353579932\n"
          ]
        }
      ]
    },
    {
      "cell_type": "code",
      "source": [
        "import pickle\n",
        "\n",
        "with open('/content/drive/MyDrive/FrontrunnningData/lstm_model.pkl', 'rb') as file:\n",
        "    # Serialize and save the model to the file\n",
        "    lstm_model = pickle.load(file)"
      ],
      "metadata": {
        "id": "HckVpegYnEKw"
      },
      "execution_count": null,
      "outputs": []
    },
    {
      "cell_type": "code",
      "source": [
        "sequences = prepare_sequences(gas_prices)\n",
        "print(len(sequences))\n",
        "print(len(data_list))\n",
        "sequences_scaled = np.array(sequences)\n",
        "\n",
        "X = np.reshape(sequences_scaled[:, ], (sequences_scaled.shape[0], sequences_scaled.shape[1], 1))"
      ],
      "metadata": {
        "colab": {
          "base_uri": "https://localhost:8080/"
        },
        "id": "YesQO0gfnOwW",
        "outputId": "6ca358aa-11ca-4148-8626-253dafd6d0eb"
      },
      "execution_count": null,
      "outputs": [
        {
          "output_type": "stream",
          "name": "stdout",
          "text": [
            "529993\n",
            "529993\n"
          ]
        }
      ]
    },
    {
      "cell_type": "code",
      "source": [
        "def inv_transform(y_pred):\n",
        "  y = y_pred.copy()\n",
        "  for i in range(len(y)):\n",
        "    y[i] = (y[i]*std_dev) + mean\n",
        "  return y\n",
        "\n",
        "\n",
        "y_pred = lstm_model.predict(X)\n",
        "y_pred_inv = inv_transform(y_pred)"
      ],
      "metadata": {
        "colab": {
          "base_uri": "https://localhost:8080/"
        },
        "id": "oCayAMFZnRwJ",
        "outputId": "5992cd81-ffa1-4538-b8e8-0ed21d06f4c9"
      },
      "execution_count": null,
      "outputs": [
        {
          "output_type": "stream",
          "name": "stdout",
          "text": [
            "16563/16563 [==============================] - 108s 6ms/step\n"
          ]
        }
      ]
    },
    {
      "cell_type": "code",
      "source": [
        "def calculate_mean_gas_price_by_eoa(transactions_data):\n",
        "    eoa_gas_prices = {}  # Dictionary to store gas prices for each EOA\n",
        "    eoa_transaction_counts = {}  # Dictionary to store transaction counts for each EOA\n",
        "\n",
        "    # Iterate through transactions data\n",
        "    for transaction in transactions_data:\n",
        "        sender_eoa = transaction['from']\n",
        "        gas_price = transaction['gasPrice']\n",
        "        gas_price = float(gas_price)\n",
        "        # Update gas prices for the sender's EOA\n",
        "        if sender_eoa in eoa_gas_prices:\n",
        "            eoa_gas_prices[sender_eoa].append(gas_price)\n",
        "            eoa_transaction_counts[sender_eoa] += 1\n",
        "        else:\n",
        "            eoa_gas_prices[sender_eoa] = [gas_price]\n",
        "            eoa_transaction_counts[sender_eoa] = 1\n",
        "\n",
        "    # Calculate mean gas price for each EOA\n",
        "    mean_gas_price_by_eoa = {}\n",
        "    std_dev_gas_price_by_eoa = {}\n",
        "\n",
        "    for eoa, gas_prices in eoa_gas_prices.items():\n",
        "        mean_gas_price_by_eoa[eoa] = np.mean(gas_prices)\n",
        "        std_dev_gas_price_by_eoa[eoa] = np.std(gas_prices)\n",
        "\n",
        "    return mean_gas_price_by_eoa, std_dev_gas_price_by_eoa\n",
        "\n",
        "\n",
        "# Calculate mean gas price by EOA\n",
        "mean_gas_price_by_eoa, std_dev_gas_price_by_eoa = calculate_mean_gas_price_by_eoa(data_list)\n",
        "\n",
        "# Print mean gas price by EOA\n",
        "# for eoa, mean_gas_price in mean_gas_price_by_eoa.items():\n",
        "#     print(f\"EOA: {eoa}, Mean Gas Price: {mean_gas_price}\")\n"
      ],
      "metadata": {
        "id": "VAzbbPtrnTsL"
      },
      "execution_count": null,
      "outputs": []
    },
    {
      "cell_type": "code",
      "source": [
        "# Calculate mean gas price and std deviation of gas price per block\n",
        "def calculate_stats_gas_price_by_block(transactions_data):\n",
        "    block_gas_prices = {}  # Dictionary to store gas prices for each block\n",
        "    block_transaction_counts = {}  # Dictionary to store transaction counts for each block\n",
        "\n",
        "    # Iterate through transactions data\n",
        "    for transaction in transactions_data:\n",
        "        blockNumber = transaction['blockNumber']\n",
        "        gas_price = transaction['gasPrice']\n",
        "        gas_price = float(gas_price)\n",
        "\n",
        "        if blockNumber in block_gas_prices:\n",
        "            block_gas_prices[blockNumber].append(gas_price)\n",
        "            block_transaction_counts[blockNumber] += 1\n",
        "        else:\n",
        "            block_gas_prices[blockNumber] = [gas_price]\n",
        "            block_transaction_counts[blockNumber] = 1\n",
        "\n",
        "    # Calculate mean gas price for each block\n",
        "    mean_gas_price_by_block = {}\n",
        "    std_dev_gas_price_by_block = {}\n",
        "\n",
        "    for block, gas_prices in block_gas_prices.items():\n",
        "        mean_gas_price_by_block[block] = np.mean(gas_prices)\n",
        "        std_dev_gas_price_by_block[block] = np.std(gas_prices)\n",
        "\n",
        "    return mean_gas_price_by_block, std_dev_gas_price_by_block\n",
        "\n",
        "\n",
        "# Calculate mean gas price by block\n",
        "mean_gas_price_by_block, std_dev_gas_price_by_block = calculate_stats_gas_price_by_block(data_list)\n",
        "\n",
        "# Print mean gas price by EOA\n",
        "# for eoa, mean_gas_price in mean_gas_price_by_eoa.items():\n",
        "#     print(f\"EOA: {eoa}, Mean Gas Price: {mean_gas_price}\")\n"
      ],
      "metadata": {
        "id": "RHamEoWDnVQf"
      },
      "execution_count": null,
      "outputs": []
    },
    {
      "cell_type": "code",
      "source": [
        "# Process data and calculate features\n",
        "def extract_features(transactions_data, y):\n",
        "    feature_vectors = []\n",
        "    cnt = 0\n",
        "    for transaction in transactions_data:\n",
        "        # print(transaction.blockNumber)\n",
        "        feature_vector = []\n",
        "        # 1. Gas Price of the Transaction\n",
        "        gas_price = transaction['gasPrice']\n",
        "        feature_vector.append(gas_price)\n",
        "        # 2. Predicted Gas Price\n",
        "        feature_vector.append(y[cnt][0])\n",
        "        cnt =  cnt + 1\n",
        "        # 3. Mean Gas Price of Transactions by the same EOA\n",
        "        mean_by_eoa = mean_gas_price_by_eoa[transaction['from']]\n",
        "        # print(mean_by_eoa)\n",
        "        feature_vector.append(mean_by_eoa)\n",
        "        # 4. Standard Deviation of Gas Price in Transactions by the same EOA\n",
        "        std_dev_by_eoa = std_dev_gas_price_by_eoa[transaction['from']]\n",
        "        feature_vector.append(std_dev_by_eoa)\n",
        "        # 5. Mean Gas Price of Transactions by the same block\n",
        "        mean_by_block = mean_gas_price_by_block[transaction['blockNumber']]\n",
        "        feature_vector.append(mean_by_block)\n",
        "        # 6. Standard Deviation of Gas Price in Transactions by the same EOA\n",
        "        std_dev_by_block = std_dev_gas_price_by_block[transaction['blockNumber']]\n",
        "        feature_vector.append(std_dev_by_block)\n",
        "        # feature_vector.append(transaction['Label'])\n",
        "        feature_vectors.append(feature_vector)\n",
        "    # df = pd.DataFrame(feature_vectors, columns = ['gas_price', 'pred_gas_price', 'mean_by_eoa', 'std_dev_by_eoa', 'mean_by_block', 'std_dev_by_block', 'Label'])\n",
        "    return feature_vectors\n",
        "\n",
        "feature_vectors = extract_features(data_list, y_pred_inv)\n",
        "# feature_vectors_test = extract_features(data_list_test, y_pred)"
      ],
      "metadata": {
        "id": "UoTjWBPgnYPO"
      },
      "execution_count": null,
      "outputs": []
    },
    {
      "cell_type": "code",
      "source": [
        "import numpy as np\n",
        "import matplotlib.pyplot as plt\n",
        "from sklearn.preprocessing import StandardScaler, LabelEncoder\n",
        "\n",
        "# Sample feature vectors and labels\n",
        "# Assuming 'data_list' and 'feature_vectors' are defined elsewhere\n",
        "labels = ['Attack' if label['Label'] == 'Attack' else 'Not Attack' for label in data_list]\n",
        "# Convert lists to numpy arrays\n",
        "X = np.array(feature_vectors, dtype=np.float32)\n",
        "y = np.array(labels)\n",
        "# Initialize the StandardScaler\n",
        "scaler = StandardScaler()\n",
        "\n",
        "# Fit the scaler to the data and transform the data\n",
        "X = scaler.fit_transform(X)\n",
        "# Convert labels to numeric values\n",
        "label_encoder = LabelEncoder()\n",
        "y_encoded = label_encoder.fit_transform(y)\n",
        "\n",
        "# Calculate the index to split the data\n",
        "split_index = int(0.8 * len(X))\n",
        "\n",
        "# Split the data into training and testing sets\n",
        "X_train, X_test = X[:split_index], X[split_index:]\n",
        "y_train, y_test = y_encoded[:split_index], y_encoded[split_index:]"
      ],
      "metadata": {
        "id": "xxV36CRPaB1x"
      },
      "execution_count": null,
      "outputs": []
    },
    {
      "cell_type": "code",
      "source": [
        "import torch\n",
        "import torch.nn as nn\n",
        "import numpy as np\n",
        "import matplotlib.pyplot as plt\n",
        "from sklearn.preprocessing import StandardScaler, LabelEncoder\n",
        "\n",
        "# Define custom MLP classifier model\n",
        "class MLPClassifier(nn.Module):\n",
        "    def __init__(self, input_size, hidden_size, num_classes):\n",
        "        super(MLPClassifier, self).__init__()\n",
        "        self.fc1 = nn.Linear(input_size, hidden_size)\n",
        "        self.relu = nn.ReLU()\n",
        "        self.fc2 = nn.Linear(hidden_size, num_classes)\n",
        "\n",
        "    def forward(self, x):\n",
        "        out = self.fc1(x)\n",
        "        out = self.relu(out)\n",
        "        out = self.fc2(out)\n",
        "        return out\n",
        "\n",
        "# Sample feature vectors and labels\n",
        "# Assuming 'data_list' and 'feature_vectors' are defined elsewhere\n",
        "labels = ['Attack' if label['Label'] == 'Attack' else 'Not Attack' for label in data_list]\n",
        "# Set seed for PyTorch\n",
        "# torch.manual_seed(7)\n",
        "# np.random.seed(42)\n",
        "# Convert lists to numpy arrays\n",
        "X = np.array(feature_vectors, dtype=np.float32)\n",
        "y = np.array(labels)\n",
        "# Initialize the StandardScaler\n",
        "scaler = StandardScaler()\n",
        "\n",
        "# Fit the scaler to the data and transform the data\n",
        "X = scaler.fit_transform(X)\n",
        "# Convert labels to numeric values\n",
        "label_encoder = LabelEncoder()\n",
        "y_encoded = label_encoder.fit_transform(y)\n",
        "\n",
        "# Calculate the index to split the data\n",
        "split_index = int(0.75 * len(X))\n",
        "\n",
        "# Split the data into training and testing sets\n",
        "X_train, X_test = X[:split_index], X[split_index:]\n",
        "y_train, y_test = y_encoded[:split_index], y_encoded[split_index:]\n",
        "\n",
        "# Hyperparameters\n",
        "input_size = X_train.shape[1]  # Number of features\n",
        "hidden_size = 10  # Number of neurons in hidden layer\n",
        "num_classes = len(np.unique(y))  # Number of output classes\n",
        "learning_rate = 0.001\n",
        "num_epochs = 50\n",
        "\n",
        "# Initialize the model\n",
        "model = MLPClassifier(input_size=input_size, hidden_size=hidden_size, num_classes=num_classes)\n",
        "\n",
        "# Loss and optimizer\n",
        "criterion = nn.CrossEntropyLoss()\n",
        "optimizer = torch.optim.Adam(model.parameters(), lr=learning_rate)\n",
        "\n",
        "# Train the model\n",
        "train_losses = []\n",
        "test_losses = []\n",
        "train_accuracies = []\n",
        "test_accuracies = []\n",
        "y_pred = []\n",
        "train_acc = 0\n",
        "test_acc = 0\n",
        "for epoch in range(num_epochs+1):\n",
        "\n",
        "    # Convert numpy arrays to PyTorch tensors\n",
        "    inputs = torch.tensor(X_train)\n",
        "    targets = torch.tensor(y_train)\n",
        "\n",
        "    # Forward pass\n",
        "    outputs = model(inputs)\n",
        "    loss = criterion(outputs, targets)\n",
        "\n",
        "    # Backward and optimize\n",
        "    optimizer.zero_grad()\n",
        "    loss.backward()\n",
        "    optimizer.step()\n",
        "    # Track train loss\n",
        "    train_losses.append(loss.item())\n",
        "\n",
        "\n",
        "    # Calculate accuracy on training set\n",
        "    with torch.no_grad():\n",
        "        train_accuracies.append(train_acc)\n",
        "        train_pred = torch.argmax(outputs, axis=1)\n",
        "        train_acc = torch.sum(train_pred == targets).item() / len(targets)\n",
        "\n",
        "\n",
        "        # Calculate test loss\n",
        "\n",
        "        inputs_test = torch.tensor(X_test)\n",
        "        targets_test = torch.tensor(y_test)\n",
        "        outputs_test = model(inputs_test)\n",
        "        loss_test = criterion(outputs_test, targets_test)\n",
        "        test_losses.append(loss_test.item())\n",
        "\n",
        "        # Calculate accuracy on test set\n",
        "        test_accuracies.append(test_acc)\n",
        "        test_pred = torch.argmax(outputs_test, axis=1)\n",
        "        y_pred = test_pred\n",
        "        test_acc = torch.sum(test_pred == targets_test).item() / len(targets_test)\n",
        "\n",
        "\n",
        "    # Print progress\n",
        "    if (epoch) % 10 == 0:\n",
        "        print(f'Epoch [{epoch}/{num_epochs}], Train Loss: {loss.item():.4f}, Test Loss: {loss_test.item():.4f}, Train Accuracy: {train_acc:.4f}, Test Accuracy: {test_acc:.4f}')\n",
        "\n",
        "# Plot Loss and Accuracy vs Epoch\n",
        "plt.figure(figsize=(12, 5))\n",
        "plt.subplot(1, 2, 1)\n",
        "plt.plot(range(0, num_epochs + 1), train_losses, label='Train Loss')\n",
        "plt.plot(range(0, num_epochs + 1), test_losses, label='Test Loss')\n",
        "plt.xlabel('Epoch')\n",
        "plt.ylabel('Loss')\n",
        "plt.title('Loss vs Epoch')\n",
        "plt.legend()\n",
        "plt.grid(True)\n",
        "\n",
        "plt.subplot(1, 2, 2)\n",
        "plt.plot(range(0, num_epochs + 1), train_accuracies, label='Train Accuracy')\n",
        "plt.plot(range(0, num_epochs + 1), test_accuracies, label='Test Accuracy')\n",
        "plt.xlabel('Epoch')\n",
        "plt.ylabel('Accuracy')\n",
        "plt.title('Accuracy vs Epoch')\n",
        "plt.legend()\n",
        "plt.grid(True)\n",
        "\n",
        "plt.tight_layout()\n",
        "plt.show()\n"
      ],
      "metadata": {
        "colab": {
          "base_uri": "https://localhost:8080/",
          "height": 611
        },
        "id": "HI6DeBbXngH2",
        "outputId": "fc2df401-bb74-4d04-9c52-4927c21da9f0"
      },
      "execution_count": null,
      "outputs": [
        {
          "output_type": "stream",
          "name": "stdout",
          "text": [
            "Epoch [0/50], Train Loss: 0.8395, Test Loss: 0.8456, Train Accuracy: 0.0349, Test Accuracy: 0.0393\n",
            "Epoch [10/50], Train Loss: 0.8066, Test Loss: 0.8104, Train Accuracy: 0.0583, Test Accuracy: 0.0615\n",
            "Epoch [20/50], Train Loss: 0.7746, Test Loss: 0.7764, Train Accuracy: 0.1117, Test Accuracy: 0.1084\n",
            "Epoch [30/50], Train Loss: 0.7432, Test Loss: 0.7432, Train Accuracy: 0.1936, Test Accuracy: 0.2045\n",
            "Epoch [40/50], Train Loss: 0.7119, Test Loss: 0.7106, Train Accuracy: 0.3995, Test Accuracy: 0.3404\n",
            "Epoch [50/50], Train Loss: 0.6804, Test Loss: 0.6784, Train Accuracy: 0.5724, Test Accuracy: 0.4906\n"
          ]
        },
        {
          "output_type": "display_data",
          "data": {
            "text/plain": [
              "<Figure size 1200x500 with 2 Axes>"
            ],
            "image/png": "[encoded data removed]"
          },
          "metadata": {}
        }
      ]
    },
    {
      "cell_type": "code",
      "source": [
        "import numpy as np\n",
        "import matplotlib.pyplot as plt\n",
        "from sklearn.neural_network import MLPClassifier\n",
        "from sklearn.metrics import accuracy_score\n",
        "\n",
        "from sklearn.preprocessing import StandardScaler, LabelEncoder\n",
        "\n",
        "# Sample feature vectors and labels\n",
        "# Assuming 'data_list' and 'feature_vectors' are defined elsewhere\n",
        "labels = ['Attack' if label['Label'] == 'Attack' else 'Not Attack' for label in data_list]\n",
        "\n",
        "# Convert lists to numpy arrays\n",
        "X = np.array(feature_vectors, dtype=np.float32)\n",
        "y = np.array(labels)\n",
        "# Initialize the StandardScaler\n",
        "scaler = StandardScaler()\n",
        "\n",
        "# Fit the scaler to the data and transform the data\n",
        "X = scaler.fit_transform(X)\n",
        "# Convert labels to numeric values\n",
        "label_encoder = LabelEncoder()\n",
        "y_encoded = label_encoder.fit_transform(y)\n",
        "\n",
        "# Calculate the index to split the data\n",
        "split_index = int(0.8 * len(X))\n",
        "\n",
        "# Split the data into training and testing sets\n",
        "X_train, X_test = X[:split_index], X[split_index:]\n",
        "y_train, y_test = y_encoded[:split_index], y_encoded[split_index:]\n",
        "\n",
        "\n",
        "\n",
        "# Create an MLP classifier with 2 hidden layers, each having 10 neurons\n",
        "mlp_classifier = MLPClassifier(hidden_layer_sizes=(10, 10), activation='logistic', solver='adam', random_state=1)\n",
        "# Initialize lists to store training and testing accuracies at each epoch\n",
        "train_accuracies = []\n",
        "test_accuracies = []\n",
        "\n",
        "# Train the classifier for each epoch and record the accuracies\n",
        "for epoch in range(1, 51):  # Training for 100 epochs\n",
        "    # Train the classifier on the training data\n",
        "    mlp_classifier.partial_fit(X_train, y_train, classes=np.unique(y_train))\n",
        "\n",
        "    # Calculate training accuracy\n",
        "    y_train_pred = mlp_classifier.predict(X_train)\n",
        "    train_accuracy = accuracy_score(y_train, y_train_pred)\n",
        "    train_accuracies.append(train_accuracy)\n",
        "\n",
        "    # Calculate testing accuracy\n",
        "    y_test_pred = mlp_classifier.predict(X_test)\n",
        "    test_accuracy = accuracy_score(y_test, y_test_pred)\n",
        "    test_accuracies.append(test_accuracy)\n"
      ],
      "metadata": {
        "id": "yJqoWJNkvVSa"
      },
      "execution_count": null,
      "outputs": []
    },
    {
      "cell_type": "code",
      "source": [
        "\n",
        "# Plot Accuracy vs No of epochs\n",
        "# plt.plot(range(1, 51), train_accuracies, label='Displacement')\n",
        "plt.plot(range(1, 51), test_accuracies, label='Displacement')\n",
        "plt.xlabel('Epoch')\n",
        "plt.ylabel('Accuracy')\n",
        "plt.title('Accuracy vs No of Epochs')\n",
        "plt.legend()\n",
        "plt.grid(True)\n",
        "plt.savefig('/content/dispMLP.png')\n",
        "plt.show()"
      ],
      "metadata": {
        "colab": {
          "base_uri": "https://localhost:8080/",
          "height": 472
        },
        "id": "hyrNZOJuuP63",
        "outputId": "a092d501-23b8-448c-bf35-7e6698a7ba00"
      },
      "execution_count": null,
      "outputs": [
        {
          "output_type": "display_data",
          "data": {
            "text/plain": [
              "<Figure size 640x480 with 1 Axes>"
            ],
            "image/png": "[encoded data removed]"
          },
          "metadata": {}
        }
      ]
    },
    {
      "cell_type": "code",
      "source": [
        "from sklearn.metrics import accuracy_score, precision_score, recall_score, f1_score, confusion_matrix, roc_curve, auc\n",
        "import matplotlib.pyplot as plt\n",
        "# Evaluate the classifier\n",
        "accuracy = accuracy_score(y_test, y_pred)\n",
        "# Calculate precision score\n",
        "precision = precision_score(y_test, y_pred, pos_label=0)\n",
        "\n",
        "# Calculate recall score\n",
        "recall = recall_score(y_test, y_pred, pos_label=0)\n",
        "\n",
        "# Calculate F1 score\n",
        "f1 = f1_score(y_test, y_pred, pos_label=0)\n",
        "\n",
        "# Calculate confusion matrix\n",
        "cm = confusion_matrix(y_test, y_pred)\n",
        "\n",
        "# # Calculate ROC curve\n",
        "# fpr, tpr, thresholds = roc_curve(y_test, mlp_classifier.predict_proba(X_test)[:,1])\n",
        "\n",
        "# # Calculate AUC\n",
        "# auc_score = auc(fpr, tpr)\n",
        "\n",
        "# Print the evaluation metrics\n",
        "print(\"Accuracy:\", accuracy)\n",
        "print(\"Precision:\", precision)\n",
        "print(\"Recall:\", recall)\n",
        "print(\"F1 Score:\", f1)\n",
        "print(\"Confusion Matrix:\\n\", cm)\n",
        "# print(\"AUC Score:\", auc_score)\n",
        "\n",
        "# Plot ROC curve\n",
        "# plt.figure()\n",
        "# plt.plot(fpr, tpr, color='darkorange', lw=2, label='ROC curve (area = %0.2f)' % auc_score)\n",
        "# plt.plot([0, 1], [0, 1], color='navy', lw=2, linestyle='--')\n",
        "# plt.xlim([0.0, 1.0])\n",
        "# plt.ylim([0.0, 1.05])\n",
        "# plt.xlabel('False Positive Rate')\n",
        "# plt.ylabel('True Positive Rate')\n",
        "# plt.title('Receiver Operating Characteristic (ROC) Curve')\n",
        "# plt.legend(loc=\"lower right\")\n",
        "# plt.show()\n"
      ],
      "metadata": {
        "colab": {
          "base_uri": "https://localhost:8080/"
        },
        "id": "gAyIesNQniEq",
        "outputId": "4b400a76-9c6d-4fa2-fcdc-1119b6951007"
      },
      "execution_count": null,
      "outputs": [
        {
          "output_type": "stream",
          "name": "stdout",
          "text": [
            "Accuracy: 0.9812262379833772\n",
            "Precision: 0.023415977961432508\n",
            "Recall: 0.013097072419106317\n",
            "F1 Score: 0.016798418972332016\n",
            "Confusion Matrix:\n",
            " [[    17   1281]\n",
            " [   709 103992]]\n"
          ]
        }
      ]
    },
    {
      "cell_type": "code",
      "source": [
        "print(\"Train Counts:\")\n",
        "counts = np.bincount(y_train)\n",
        "print(\"Count of 0's:\", counts[0])\n",
        "print(\"Count of 1's:\", counts[1])\n",
        "print(\"Test Counts:\")\n",
        "counts = np.bincount(y_test)\n",
        "print(\"Count of 0's:\", counts[0])\n",
        "print(\"Count of 1's:\", counts[1])\n",
        "print(\"Pred Counts:\")\n",
        "counts = np.bincount(y_pred)\n",
        "print(\"Count of 0's:\", counts[0])\n",
        "print(\"Count of 1's:\", counts[1])\n",
        "# print(y)\n",
        "# print(y_encoded)"
      ],
      "metadata": {
        "colab": {
          "base_uri": "https://localhost:8080/"
        },
        "id": "9jcSPJ9dn8c6",
        "outputId": "4ddf55cf-a954-4aad-945f-9fca329a353b"
      },
      "execution_count": null,
      "outputs": [
        {
          "output_type": "stream",
          "name": "stdout",
          "text": [
            "Train Counts:\n",
            "Count of 0's: 5572\n",
            "Count of 1's: 418422\n",
            "Test Counts:\n",
            "Count of 0's: 1298\n",
            "Count of 1's: 104701\n",
            "Pred Counts:\n",
            "Count of 0's: 726\n",
            "Count of 1's: 105273\n"
          ]
        }
      ]
    },
    {
      "cell_type": "code",
      "source": [
        "import numpy as np\n",
        "import pandas as pd\n",
        "from sklearn.model_selection import train_test_split\n",
        "from sklearn.metrics import accuracy_score, classification_report\n",
        "import xgboost as xgb\n",
        "\n",
        "# Create the XGBoost classifier\n",
        "# Use 'binary:logistic' objective function for binary classification\n",
        "xgb_classifier = xgb.XGBClassifier(objective='binary:logistic', seed=42)\n",
        "\n",
        "# Set the class weights to handle imbalanced data\n",
        "# Calculate the class weights\n",
        "class_counts = np.bincount(y_train)\n",
        "cls_wt = {0:class_counts[0], 1:class_counts[1]}\n",
        "\n",
        "pos_weight = (class_counts[0] + class_counts[1]) / 2\n",
        "xgb_classifier.set_params(scale_pos_weight=pos_weight, class_weight = cls_wt)\n",
        "\n",
        "# Train the classifier\n",
        "xgb_classifier.fit(X_train, y_train)\n",
        "\n",
        "# Make predictions on the test set\n",
        "y_pred = xgb_classifier.predict(X_test)\n",
        "\n",
        "# Evaluate the classifier\n",
        "accuracy = accuracy_score(y_test, y_pred)\n",
        "print(\"Accuracy:\", accuracy)\n",
        "\n",
        "# Print classification report\n",
        "print(classification_report(y_test, y_pred))\n"
      ],
      "metadata": {
        "colab": {
          "base_uri": "https://localhost:8080/"
        },
        "id": "OClmjGTXn-oY",
        "outputId": "27052c2b-72c1-4cff-897a-f379d0a2e44b"
      },
      "execution_count": null,
      "outputs": [
        {
          "output_type": "stream",
          "name": "stderr",
          "text": [
            "/usr/local/lib/python3.10/dist-packages/xgboost/core.py:160: UserWarning: [10:38:06] WARNING: /workspace/src/learner.cc:742: \n",
            "Parameters: { \"class_weight\" } are not used.\n",
            "\n",
            "  warnings.warn(smsg, UserWarning)\n"
          ]
        },
        {
          "output_type": "stream",
          "name": "stdout",
          "text": [
            "Accuracy: 0.9994056547703281\n",
            "              precision    recall  f1-score   support\n",
            "\n",
            "           0       1.00      0.95      0.98      1298\n",
            "           1       1.00      1.00      1.00    104701\n",
            "\n",
            "    accuracy                           1.00    105999\n",
            "   macro avg       1.00      0.98      0.99    105999\n",
            "weighted avg       1.00      1.00      1.00    105999\n",
            "\n"
          ]
        }
      ]
    },
    {
      "cell_type": "code",
      "source": [
        "from sklearn.metrics import precision_score, recall_score, f1_score, confusion_matrix, roc_curve, auc, precision_recall_curve\n",
        "import matplotlib.pyplot as plt\n",
        "\n",
        "# Calculate precision score\n",
        "precision = precision_score(y_test, y_pred, pos_label=0)\n",
        "\n",
        "# Calculate recall score\n",
        "recall = recall_score(y_test, y_pred, pos_label=0)\n",
        "\n",
        "# Calculate F1 score\n",
        "f1 = f1_score(y_test, y_pred, pos_label=0)\n",
        "\n",
        "# Calculate confusion matrix\n",
        "cm = confusion_matrix(y_test, y_pred)\n",
        "\n",
        "# Calculate ROC curve\n",
        "fpr, tpr, thresholds = roc_curve(y_test, xgb_classifier.predict_proba(X_test)[:,1])\n",
        "\n",
        "# Calculate AUC\n",
        "auc_score = auc(fpr, tpr)\n",
        "\n",
        "\n",
        "y_proba = xgb_classifier.predict_proba(X_test)[:, 1]\n",
        "\n",
        "\n",
        "\n",
        "# Print the evaluation metrics\n",
        "print(\"Precision:\", precision)\n",
        "print(\"Recall:\", recall)\n",
        "print(\"F1 Score:\", f1)\n",
        "print(\"Confusion Matrix:\\n\", cm)\n",
        "print(\"AUC Score:\", auc_score)\n",
        "\n",
        "\n",
        "# Generate precision-recall curve\n",
        "precision, recall, _ = precision_recall_curve(y_test, y_proba)\n",
        "\n",
        "# Plot precision-recall curve\n",
        "plt.figure(figsize=(8, 6))\n",
        "plt.plot(recall, precision, marker='o')\n",
        "plt.xlabel('Recall')\n",
        "plt.ylabel('Precision')\n",
        "plt.title('Precision-Recall Curve')\n",
        "plt.grid(True)\n",
        "plt.show()\n",
        "\n",
        "print(\" \")\n",
        "\n",
        "# Plot ROC curve\n",
        "plt.figure()\n",
        "plt.plot(fpr, tpr, color='darkorange', lw=2, label='ROC curve (area = %0.2f)' % auc_score)\n",
        "plt.plot([0, 1], [0, 1], color='navy', lw=2, linestyle='--')\n",
        "plt.xlim([0.0, 1.0])\n",
        "plt.ylim([0.0, 1.05])\n",
        "plt.xlabel('False Positive Rate')\n",
        "plt.ylabel('True Positive Rate')\n",
        "plt.title('Receiver Operating Characteristic (ROC) Curve')\n",
        "plt.legend(loc=\"lower right\")\n",
        "plt.show()\n"
      ],
      "metadata": {
        "colab": {
          "base_uri": "https://localhost:8080/",
          "height": 1000
        },
        "id": "OcyhgANooAf9",
        "outputId": "4adad25a-4b26-4cf3-d753-53592e0292cb"
      },
      "execution_count": null,
      "outputs": [
        {
          "output_type": "stream",
          "name": "stdout",
          "text": [
            "Precision: 0.9983857949959645\n",
            "Recall: 0.9530046224961479\n",
            "F1 Score: 0.9751675206937327\n",
            "Confusion Matrix:\n",
            " [[  1237     61]\n",
            " [     2 104699]]\n",
            "AUC Score: 0.9864137291151003\n"
          ]
        },
        {
          "output_type": "display_data",
          "data": {
            "text/plain": [
              "<Figure size 800x600 with 1 Axes>"
            ],
            "image/png": "[encoded data removed]"
          },
          "metadata": {}
        },
        {
          "output_type": "stream",
          "name": "stdout",
          "text": [
            " \n"
          ]
        },
        {
          "output_type": "display_data",
          "data": {
            "text/plain": [
              "<Figure size 640x480 with 1 Axes>"
            ],
            "image/png": "[encoded data removed]"
          },
          "metadata": {}
        }
      ]
    },
    {
      "cell_type": "code",
      "source": [
        "import numpy as np\n",
        "import pandas as pd\n",
        "from sklearn.model_selection import train_test_split, GridSearchCV, RandomizedSearchCV\n",
        "from sklearn.metrics import accuracy_score, classification_report\n",
        "import xgboost as xgb\n",
        "\n",
        "\n",
        "# Create the XGBoost classifier\n",
        "# Use 'binary:logistic' objective function for binary classification\n",
        "xgb_classifier = xgb.XGBClassifier(objective='binary:logistic', seed=42)\n",
        "\n",
        "# Define hyperparameters grid for grid search\n",
        "param_grid = {\n",
        "    'n_estimators': [100, 200, 300],\n",
        "    'max_depth': [3, 5, 7],\n",
        "    'learning_rate': [0.1, 0.01, 0.001],\n",
        "    'subsample': [0.7, 0.8, 0.9],\n",
        "    'colsample_bytree': [0.7, 0.8, 0.9]\n",
        "}\n",
        "\n",
        "# Perform grid search\n",
        "random_search = RandomizedSearchCV(estimator=xgb_classifier, param_distributions=param_grid, n_iter=10, cv=3, scoring='accuracy', random_state=42)\n",
        "random_search.fit(X_train, y_train)\n",
        "\n",
        "\n",
        "\n",
        "\n",
        "# Get the best parameters found by grid search\n",
        "best_params = random_search.best_params_\n",
        "\n",
        "print(best_params)\n",
        "\n",
        "# Train the classifier with the best parameters\n",
        "best_xgb_classifier = xgb.XGBClassifier(**best_params)\n",
        "best_xgb_classifier.fit(X_train, y_train)\n",
        "\n",
        "# Make predictions on the test set\n",
        "y_pred = best_xgb_classifier.predict(X_test)\n",
        "\n",
        "# Evaluate the classifier\n",
        "accuracy = accuracy_score(y_test, y_pred)\n",
        "print(\"Accuracy:\", accuracy)\n",
        "\n",
        "# Print classification report\n",
        "print(classification_report(y_test, y_pred))\n"
      ],
      "metadata": {
        "colab": {
          "base_uri": "https://localhost:8080/"
        },
        "id": "CRsCkflnoDMe",
        "outputId": "40a75c32-d8af-49d7-d9b5-2d3d89b72391"
      },
      "execution_count": null,
      "outputs": [
        {
          "output_type": "stream",
          "name": "stdout",
          "text": [
            "{'subsample': 0.9, 'n_estimators': 300, 'max_depth': 7, 'learning_rate': 0.01, 'colsample_bytree': 0.9}\n",
            "Accuracy: 0.999433956924122\n",
            "              precision    recall  f1-score   support\n",
            "\n",
            "           0       1.00      0.95      0.98      1298\n",
            "           1       1.00      1.00      1.00    104701\n",
            "\n",
            "    accuracy                           1.00    105999\n",
            "   macro avg       1.00      0.98      0.99    105999\n",
            "weighted avg       1.00      1.00      1.00    105999\n",
            "\n"
          ]
        }
      ]
    },
    {
      "cell_type": "code",
      "source": [
        "from sklearn.metrics import precision_score, recall_score, f1_score, confusion_matrix, roc_curve, auc, precision_recall_curve\n",
        "import matplotlib.pyplot as plt\n",
        "\n",
        "# Calculate precision score\n",
        "precision = precision_score(y_test, y_pred, pos_label=0)\n",
        "\n",
        "# Calculate recall score\n",
        "recall = recall_score(y_test, y_pred, pos_label=0)\n",
        "\n",
        "# Calculate F1 score\n",
        "f1 = f1_score(y_test, y_pred, pos_label=0)\n",
        "\n",
        "# Calculate confusion matrix\n",
        "cm = confusion_matrix(y_test, y_pred)\n",
        "\n",
        "# Calculate ROC curve\n",
        "fpr, tpr, thresholds = roc_curve(y_test, best_xgb_classifier.predict_proba(X_test)[:,1])\n",
        "\n",
        "# Calculate AUC\n",
        "auc_score = auc(fpr, tpr)\n",
        "\n",
        "y_proba = best_xgb_classifier.predict_proba(X_test)[:, 1]\n",
        "\n",
        "\n",
        "# Generate precision-recall curve\n",
        "precision, recall, _ = precision_recall_curve(y_test, y_proba)\n",
        "\n",
        "# Print the evaluation metrics\n",
        "print(\"Precision:\", precision)\n",
        "print(\"Recall:\", recall)\n",
        "print(\"F1 Score:\", f1)\n",
        "print(\"Confusion Matrix:\\n\", cm)\n",
        "print(\"AUC Score:\", auc_score)\n",
        "\n",
        "# Plot precision-recall curve\n",
        "plt.figure(figsize=(8, 6))\n",
        "plt.plot(recall, precision, marker='o')\n",
        "plt.xlabel('Recall')\n",
        "plt.ylabel('Precision')\n",
        "plt.title('Precision-Recall Curve')\n",
        "plt.grid(True)\n",
        "plt.show()\n",
        "\n",
        "# Plot ROC curve\n",
        "plt.figure()\n",
        "plt.plot(fpr, tpr, color='darkorange', lw=2, label='ROC curve (area = %0.2f)' % auc_score)\n",
        "plt.plot([0, 1], [0, 1], color='navy', lw=2, linestyle='--')\n",
        "plt.xlim([0.0, 1.0])\n",
        "plt.ylim([0.0, 1.05])\n",
        "plt.xlabel('False Positive Rate')\n",
        "plt.ylabel('True Positive Rate')\n",
        "plt.title('Receiver Operating Characteristic (ROC) Curve')\n",
        "plt.legend(loc=\"lower right\")\n",
        "plt.show()\n"
      ],
      "metadata": {
        "colab": {
          "base_uri": "https://localhost:8080/",
          "height": 1000
        },
        "id": "N6-lZegdomfE",
        "outputId": "23c056ba-efb5-4383-95e8-d15bc954af89"
      },
      "execution_count": null,
      "outputs": [
        {
          "output_type": "stream",
          "name": "stdout",
          "text": [
            "Precision: [0.9877546  0.99285003 0.99285945 ... 1.         1.         1.        ]\n",
            "Recall: [1.         1.         1.         ... 0.05170915 0.03546289 0.        ]\n",
            "F1 Score: 0.9763406940063092\n",
            "Confusion Matrix:\n",
            " [[  1238     60]\n",
            " [     0 104701]]\n",
            "AUC Score: 0.9886281095205898\n"
          ]
        },
        {
          "output_type": "display_data",
          "data": {
            "text/plain": [
              "<Figure size 800x600 with 1 Axes>"
            ],
            "image/png": "[encoded data removed]"
          },
          "metadata": {}
        },
        {
          "output_type": "display_data",
          "data": {
            "text/plain": [
              "<Figure size 640x480 with 1 Axes>"
            ],
            "image/png": "[encoded data removed]"
          },
          "metadata": {}
        }
      ]
    },
    {
      "cell_type": "code",
      "source": [
        "import numpy as np\n",
        "import pandas as pd\n",
        "from sklearn.model_selection import train_test_split\n",
        "from sklearn.metrics import accuracy_score, classification_report\n",
        "from sklearn.ensemble import RandomForestClassifier\n",
        "\n",
        "# Random Forest Classifier\n",
        "rf_classifier = RandomForestClassifier(random_state=42)\n",
        "rf_classifier.fit(X_train, y_train)\n",
        "rf_y_pred = rf_classifier.predict(X_test)\n",
        "\n",
        "# Evaluate Random Forest Classifier\n",
        "rf_accuracy = accuracy_score(y_test, rf_y_pred)\n",
        "print(\"Random Forest Classifier Accuracy:\", rf_accuracy)\n",
        "print(\"Random Forest Classifier Classification Report:\")\n",
        "print(classification_report(y_test, rf_y_pred))\n",
        "\n"
      ],
      "metadata": {
        "colab": {
          "base_uri": "https://localhost:8080/"
        },
        "id": "aiAb2FHNZvKr",
        "outputId": "774dc2bd-ca83-4b8c-bd91-663c658d6515"
      },
      "execution_count": null,
      "outputs": [
        {
          "output_type": "stream",
          "name": "stdout",
          "text": [
            "Random Forest Classifier Accuracy: 0.9996603741544732\n",
            "Random Forest Classifier Classification Report:\n",
            "              precision    recall  f1-score   support\n",
            "\n",
            "           0       1.00      0.97      0.99      1298\n",
            "           1       1.00      1.00      1.00    104701\n",
            "\n",
            "    accuracy                           1.00    105999\n",
            "   macro avg       1.00      0.99      0.99    105999\n",
            "weighted avg       1.00      1.00      1.00    105999\n",
            "\n"
          ]
        }
      ]
    },
    {
      "cell_type": "code",
      "source": [
        "from sklearn.metrics import precision_score, recall_score, f1_score, confusion_matrix, roc_curve, auc\n",
        "import matplotlib.pyplot as plt\n",
        "\n",
        "# Calculate precision score\n",
        "precision = precision_score(y_test, rf_y_pred, pos_label=0)\n",
        "\n",
        "# Calculate recall score\n",
        "recall = recall_score(y_test, rf_y_pred, pos_label=0)\n",
        "\n",
        "# Calculate F1 score\n",
        "f1 = f1_score(y_test, rf_y_pred, pos_label=0)\n",
        "\n",
        "# Calculate confusion matrix\n",
        "cm = confusion_matrix(y_test, rf_y_pred)\n",
        "\n",
        "# Calculate ROC curve\n",
        "fpr, tpr, thresholds = roc_curve(y_test, rf_classifier.predict_proba(X_test)[:,1])\n",
        "\n",
        "# Calculate AUC\n",
        "auc_score = auc(fpr, tpr)\n",
        "\n",
        "# Print the evaluation metrics\n",
        "print(\"Precision:\", precision)\n",
        "print(\"Recall:\", recall)\n",
        "print(\"F1 Score:\", f1)\n",
        "print(\"Confusion Matrix:\\n\", cm)\n",
        "print(\"AUC Score:\", auc_score)\n"
      ],
      "metadata": {
        "colab": {
          "base_uri": "https://localhost:8080/"
        },
        "id": "wBrHrMVAZ5j8",
        "outputId": "8c445d08-640a-43b4-b264-f746adc6e705"
      },
      "execution_count": null,
      "outputs": [
        {
          "output_type": "stream",
          "name": "stdout",
          "text": [
            "Precision: 1.0\n",
            "Recall: 0.9722650231124808\n",
            "F1 Score: 0.9859375\n",
            "Confusion Matrix:\n",
            " [[  1262     36]\n",
            " [     0 104701]]\n",
            "AUC Score: 0.9877555426047102\n"
          ]
        }
      ]
    },
    {
      "cell_type": "code",
      "source": [
        "from sklearn.ensemble import IsolationForest\n",
        "\n",
        "random_state = np.random.RandomState(42)\n",
        "# Isolation Forest Classifier\n",
        "if_classifier = IsolationForest(n_estimators=100,max_samples='auto',contamination=float(0.2),random_state=random_state)\n",
        "if_classifier.fit(X_train, y_train)\n",
        "if_y_pred = if_classifier.predict(X_test)\n",
        "\n",
        "y_pred_binary = [0 if pred == -1 else 1 for pred in if_y_pred]\n",
        "if_accuracy = accuracy_score(y_test, y_pred_binary)\n",
        "print(\"\\nIsolation Forest Classifier Accuracy:\", if_accuracy)\n",
        "print(\"Isolation Forest Classifier Classification Report:\")\n",
        "print(classification_report(y_test, y_pred_binary))"
      ],
      "metadata": {
        "colab": {
          "base_uri": "https://localhost:8080/"
        },
        "id": "CzUAsNK9Z6r2",
        "outputId": "b1e2bba3-a29c-4974-b7d5-806265d55483"
      },
      "execution_count": null,
      "outputs": [
        {
          "output_type": "stream",
          "name": "stdout",
          "text": [
            "\n",
            "Isolation Forest Classifier Accuracy: 0.7588090453683526\n",
            "Isolation Forest Classifier Classification Report:\n",
            "              precision    recall  f1-score   support\n",
            "\n",
            "           0       0.01      0.18      0.02      1298\n",
            "           1       0.99      0.77      0.86    104701\n",
            "\n",
            "    accuracy                           0.76    105999\n",
            "   macro avg       0.50      0.47      0.44    105999\n",
            "weighted avg       0.97      0.76      0.85    105999\n",
            "\n"
          ]
        }
      ]
    },
    {
      "cell_type": "code",
      "source": [
        "from sklearn.metrics import precision_score, recall_score, f1_score, confusion_matrix, roc_curve, auc\n",
        "import matplotlib.pyplot as plt\n",
        "\n",
        "# Calculate precision score\n",
        "precision = precision_score(y_test, y_pred_binary, pos_label=0)\n",
        "\n",
        "# Calculate recall score\n",
        "recall = recall_score(y_test, y_pred_binary, pos_label=0)\n",
        "\n",
        "# Calculate F1 score\n",
        "f1 = f1_score(y_test, y_pred_binary, pos_label=0)\n",
        "\n",
        "# Calculate confusion matrix\n",
        "cm = confusion_matrix(y_test, y_pred_binary)\n",
        "\n",
        "# # Calculate ROC curve\n",
        "# fpr, tpr, thresholds = roc_curve(y_test, rf_classifier.predict_proba(X_test)[:,1])\n",
        "\n",
        "# # Calculate AUC\n",
        "# auc_score = auc(fpr, tpr)\n",
        "\n",
        "# Print the evaluation metrics\n",
        "print(\"Precision:\", precision)\n",
        "print(\"Recall:\", recall)\n",
        "print(\"F1 Score:\", f1)\n",
        "print(\"Confusion Matrix:\\n\", cm)\n",
        "# print(\"AUC Score:\", auc_score)\n"
      ],
      "metadata": {
        "colab": {
          "base_uri": "https://localhost:8080/"
        },
        "id": "7nhQvqyKZ89H",
        "outputId": "28e0f852-1c01-45b3-a097-82d8a6593009"
      },
      "execution_count": null,
      "outputs": [
        {
          "output_type": "stream",
          "name": "stdout",
          "text": [
            "Precision: 0.00938055959890021\n",
            "Recall: 0.17873651771956856\n",
            "F1 Score: 0.017825585862466384\n",
            "Confusion Matrix:\n",
            " [[  232  1066]\n",
            " [24500 80201]]\n"
          ]
        }
      ]
    }
  ]
}